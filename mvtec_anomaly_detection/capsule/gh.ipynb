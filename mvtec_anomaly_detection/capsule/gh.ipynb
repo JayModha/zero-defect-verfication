{
 "cells": [
  {
   "cell_type": "code",
   "execution_count": 2,
   "id": "5aeaf40f",
   "metadata": {},
   "outputs": [],
   "source": [
    "import os\n",
    "import cv2\n",
    "import numpy as np\n",
    "\n",
    "def load_images(path, target_size=(224, 224)):\n",
    "    images = []\n",
    "    labels = []\n",
    "    for label_type in ['train/good', 'test/good', 'test/broken_small', 'test/broken_large']:\n",
    "        full_path = os.path.join(path, label_type)\n",
    "        label = 0 if 'good' in label_type else 1\n",
    "        if os.path.exists(full_path):\n",
    "            for img_file in os.listdir(full_path):\n",
    "                img_path = os.path.join(full_path, img_file)\n",
    "                img = cv2.imread(img_path)\n",
    "                if img is not None:\n",
    "                    img = cv2.resize(img, target_size)\n",
    "                    images.append(img)\n",
    "                    labels.append(label)\n",
    "    return np.array(images), np.array(labels)\n"
   ]
  }
 ],
 "metadata": {
  "kernelspec": {
   "display_name": "Python 3",
   "language": "python",
   "name": "python3"
  },
  "language_info": {
   "codemirror_mode": {
    "name": "ipython",
    "version": 3
   },
   "file_extension": ".py",
   "mimetype": "text/x-python",
   "name": "python",
   "nbconvert_exporter": "python",
   "pygments_lexer": "ipython3",
   "version": "3.10.11"
  }
 },
 "nbformat": 4,
 "nbformat_minor": 5
}
